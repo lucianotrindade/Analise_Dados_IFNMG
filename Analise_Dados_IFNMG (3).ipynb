{
 "cells": [
  {
   "cell_type": "markdown",
   "id": "49b3509e",
   "metadata": {},
   "source": [
    "## Analisando Dados"
   ]
  },
  {
   "cell_type": "code",
   "execution_count": 22,
   "id": "933ac15d",
   "metadata": {},
   "outputs": [],
   "source": [
    "import pandas as pd\n",
    "import numpy as np\n",
    "from unidecode import unidecode\n",
    "from datetime import datetime"
   ]
  },
  {
   "cell_type": "markdown",
   "id": "fc0c76e2",
   "metadata": {},
   "source": [
    "### Obtendo dados"
   ]
  },
  {
   "cell_type": "code",
   "execution_count": 25,
   "id": "accfb0d5",
   "metadata": {},
   "outputs": [
    {
     "data": {
      "text/html": [
       "<div>\n",
       "<style scoped>\n",
       "    .dataframe tbody tr th:only-of-type {\n",
       "        vertical-align: middle;\n",
       "    }\n",
       "\n",
       "    .dataframe tbody tr th {\n",
       "        vertical-align: top;\n",
       "    }\n",
       "\n",
       "    .dataframe thead th {\n",
       "        text-align: right;\n",
       "    }\n",
       "</style>\n",
       "<table border=\"1\" class=\"dataframe\">\n",
       "  <thead>\n",
       "    <tr style=\"text-align: right;\">\n",
       "      <th></th>\n",
       "      <th>Câmpus</th>\n",
       "      <th>Tipo de Curso</th>\n",
       "      <th>Tipo de Oferta</th>\n",
       "      <th>Modalidade</th>\n",
       "      <th>Nome do Curso</th>\n",
       "      <th>Carga Horária Curso</th>\n",
       "      <th>Código Aluno</th>\n",
       "      <th>Situação da Matrícula</th>\n",
       "      <th>Data de Início do Ciclo</th>\n",
       "      <th>Data de Fim Previsto para o Ciclo</th>\n",
       "      <th>Nome do Ciclo de matrícula</th>\n",
       "      <th>Data da Finalização da Matrícula</th>\n",
       "      <th>E-TEC</th>\n",
       "      <th>Código Polo EAD</th>\n",
       "      <th>UAB</th>\n",
       "    </tr>\n",
       "  </thead>\n",
       "  <tbody>\n",
       "    <tr>\n",
       "      <th>0</th>\n",
       "      <td>Avaré</td>\n",
       "      <td>Técnico</td>\n",
       "      <td>Integrado</td>\n",
       "      <td>Presencial</td>\n",
       "      <td>TÉCNICO EM MECATRÔNICA</td>\n",
       "      <td>4360</td>\n",
       "      <td>8781421</td>\n",
       "      <td>TRANSF_EXT</td>\n",
       "      <td>04/02/2013</td>\n",
       "      <td>30/12/2015</td>\n",
       "      <td>TÉCNICO EM MECATRÔNICA - PRESENCIAL - INTEGRAD...</td>\n",
       "      <td>NaN</td>\n",
       "      <td>NaN</td>\n",
       "      <td>NaN</td>\n",
       "      <td>NaN</td>\n",
       "    </tr>\n",
       "    <tr>\n",
       "      <th>1</th>\n",
       "      <td>Avaré</td>\n",
       "      <td>Técnico</td>\n",
       "      <td>Integrado</td>\n",
       "      <td>Presencial</td>\n",
       "      <td>TÉCNICO EM EVENTOS</td>\n",
       "      <td>3800</td>\n",
       "      <td>8781393</td>\n",
       "      <td>TRANSF_EXT</td>\n",
       "      <td>04/02/2013</td>\n",
       "      <td>30/12/2015</td>\n",
       "      <td>TÉCNICO EM EVENTOS - PRESENCIAL - INTEGRADO - ...</td>\n",
       "      <td>NaN</td>\n",
       "      <td>NaN</td>\n",
       "      <td>NaN</td>\n",
       "      <td>NaN</td>\n",
       "    </tr>\n",
       "    <tr>\n",
       "      <th>2</th>\n",
       "      <td>Avaré</td>\n",
       "      <td>Proeja - FIC</td>\n",
       "      <td>Proeja - FIC</td>\n",
       "      <td>Presencial</td>\n",
       "      <td>AUXILIAR EM HOSPEDAGEM INTEGRADO AO ENSINO FUN...</td>\n",
       "      <td>1527</td>\n",
       "      <td>10045305</td>\n",
       "      <td>ABANDONO</td>\n",
       "      <td>24/07/2017</td>\n",
       "      <td>04/07/2019</td>\n",
       "      <td>AUXILIAR EM HOSPEDAGEM INTEGRADO AO FUNDAMENTA...</td>\n",
       "      <td>NaN</td>\n",
       "      <td>NaN</td>\n",
       "      <td>NaN</td>\n",
       "      <td>NaN</td>\n",
       "    </tr>\n",
       "    <tr>\n",
       "      <th>3</th>\n",
       "      <td>Avaré</td>\n",
       "      <td>FIC</td>\n",
       "      <td>FIC</td>\n",
       "      <td>Presencial</td>\n",
       "      <td>COSTUREIRO INDUSTRIAL DO VESTUARIO</td>\n",
       "      <td>100</td>\n",
       "      <td>10038894</td>\n",
       "      <td>CONCLUÍDA</td>\n",
       "      <td>12/09/2017</td>\n",
       "      <td>02/10/2017</td>\n",
       "      <td>COSTUREIRO INDUSTRIAL DO VESTUARIO - EDUCAÇÃO ...</td>\n",
       "      <td>10/10/2017</td>\n",
       "      <td>NaN</td>\n",
       "      <td>NaN</td>\n",
       "      <td>NaN</td>\n",
       "    </tr>\n",
       "    <tr>\n",
       "      <th>4</th>\n",
       "      <td>Avaré</td>\n",
       "      <td>FIC</td>\n",
       "      <td>FIC</td>\n",
       "      <td>Presencial</td>\n",
       "      <td>COSTUREIRO INDUSTRIAL DO VESTUARIO</td>\n",
       "      <td>100</td>\n",
       "      <td>10038895</td>\n",
       "      <td>CONCLUÍDA</td>\n",
       "      <td>12/09/2017</td>\n",
       "      <td>02/10/2017</td>\n",
       "      <td>COSTUREIRO INDUSTRIAL DO VESTUARIO - EDUCAÇÃO ...</td>\n",
       "      <td>10/10/2017</td>\n",
       "      <td>NaN</td>\n",
       "      <td>NaN</td>\n",
       "      <td>NaN</td>\n",
       "    </tr>\n",
       "  </tbody>\n",
       "</table>\n",
       "</div>"
      ],
      "text/plain": [
       "  Câmpus Tipo de Curso Tipo de Oferta  Modalidade  \\\n",
       "0  Avaré       Técnico      Integrado  Presencial   \n",
       "1  Avaré       Técnico      Integrado  Presencial   \n",
       "2  Avaré  Proeja - FIC   Proeja - FIC  Presencial   \n",
       "3  Avaré           FIC            FIC  Presencial   \n",
       "4  Avaré           FIC            FIC  Presencial   \n",
       "\n",
       "                                       Nome do Curso  Carga Horária Curso  \\\n",
       "0                             TÉCNICO EM MECATRÔNICA                 4360   \n",
       "1                                 TÉCNICO EM EVENTOS                 3800   \n",
       "2  AUXILIAR EM HOSPEDAGEM INTEGRADO AO ENSINO FUN...                 1527   \n",
       "3                 COSTUREIRO INDUSTRIAL DO VESTUARIO                  100   \n",
       "4                 COSTUREIRO INDUSTRIAL DO VESTUARIO                  100   \n",
       "\n",
       "   Código Aluno Situação da Matrícula Data de Início do Ciclo  \\\n",
       "0       8781421            TRANSF_EXT              04/02/2013   \n",
       "1       8781393            TRANSF_EXT              04/02/2013   \n",
       "2      10045305              ABANDONO              24/07/2017   \n",
       "3      10038894             CONCLUÍDA              12/09/2017   \n",
       "4      10038895             CONCLUÍDA              12/09/2017   \n",
       "\n",
       "  Data de Fim Previsto para o Ciclo  \\\n",
       "0                        30/12/2015   \n",
       "1                        30/12/2015   \n",
       "2                        04/07/2019   \n",
       "3                        02/10/2017   \n",
       "4                        02/10/2017   \n",
       "\n",
       "                          Nome do Ciclo de matrícula  \\\n",
       "0  TÉCNICO EM MECATRÔNICA - PRESENCIAL - INTEGRAD...   \n",
       "1  TÉCNICO EM EVENTOS - PRESENCIAL - INTEGRADO - ...   \n",
       "2  AUXILIAR EM HOSPEDAGEM INTEGRADO AO FUNDAMENTA...   \n",
       "3  COSTUREIRO INDUSTRIAL DO VESTUARIO - EDUCAÇÃO ...   \n",
       "4  COSTUREIRO INDUSTRIAL DO VESTUARIO - EDUCAÇÃO ...   \n",
       "\n",
       "  Data da Finalização da Matrícula  E-TEC  Código Polo EAD  UAB  \n",
       "0                              NaN    NaN              NaN  NaN  \n",
       "1                              NaN    NaN              NaN  NaN  \n",
       "2                              NaN    NaN              NaN  NaN  \n",
       "3                       10/10/2017    NaN              NaN  NaN  \n",
       "4                       10/10/2017    NaN              NaN  NaN  "
      ]
     },
     "execution_count": 25,
     "metadata": {},
     "output_type": "execute_result"
    }
   ],
   "source": [
    "# Importando dados para análise.\n",
    "\n",
    "file = 'Estudantes IFSP - Maio-2018.1.csv'\n",
    "dadosEstudantes = pd.read_csv(\n",
    "    file, sep=';', engine='python', encoding='iso-8859-1')\n",
    "dadosEstudantes.head(5)"
   ]
  },
  {
   "cell_type": "markdown",
   "id": "a43567ac",
   "metadata": {},
   "source": [
    "### Tratando os dados"
   ]
  },
  {
   "cell_type": "code",
   "execution_count": 15,
   "id": "97710a15",
   "metadata": {},
   "outputs": [
    {
     "data": {
      "text/plain": [
       "Index(['Câmpus', 'Tipo de Curso', 'Tipo de Oferta', 'Modalidade',\n",
       "       'Nome do Curso', 'Carga Horária Curso', 'Código Aluno',\n",
       "       'Situação da Matrícula', 'Data de Início do Ciclo',\n",
       "       'Data de Fim Previsto para o Ciclo', 'Nome do Ciclo de matrícula',\n",
       "       'Data da Finalização da Matrícula', 'E-TEC', 'Código Polo EAD', 'UAB'],\n",
       "      dtype='object')"
      ]
     },
     "execution_count": 15,
     "metadata": {},
     "output_type": "execute_result"
    }
   ],
   "source": [
    "# Obtendo as colunas do DataSet\n",
    "dadosEstudantes.columns"
   ]
  },
  {
   "cell_type": "code",
   "execution_count": 16,
   "id": "420f5e42",
   "metadata": {},
   "outputs": [
    {
     "data": {
      "text/plain": [
       "(146245, 15)"
      ]
     },
     "execution_count": 16,
     "metadata": {},
     "output_type": "execute_result"
    }
   ],
   "source": [
    "# Tamanho do DataSet\n",
    "dadosEstudantes.shape"
   ]
  },
  {
   "cell_type": "code",
   "execution_count": 44,
   "id": "a1028d15",
   "metadata": {},
   "outputs": [],
   "source": [
    "# Alterando coluna par o formato Datetime\n",
    "dadosEstudantes['Data de Início do Ciclo'] = pd.to_datetime(\n",
    "    dadosEstudantes['Data de Início do Ciclo'], errors='coerce')"
   ]
  },
  {
   "cell_type": "code",
   "execution_count": 45,
   "id": "fb6d597f",
   "metadata": {},
   "outputs": [],
   "source": [
    "# Alterando coluna par o formato Datetime\n",
    "dadosEstudantes['Data de Fim Previsto para o Ciclo'] = pd.to_datetime(\n",
    "    dadosEstudantes['Data de Fim Previsto para o Ciclo'], errors='coerce')"
   ]
  },
  {
   "cell_type": "code",
   "execution_count": 46,
   "id": "02c6d976",
   "metadata": {},
   "outputs": [],
   "source": [
    "# Incluindo Zero para os campos NAN - missing\n",
    "dadosEstudantes.fillna(0, inplace=True)"
   ]
  },
  {
   "cell_type": "code",
   "execution_count": null,
   "id": "415b0de7",
   "metadata": {},
   "outputs": [],
   "source": []
  }
 ],
 "metadata": {
  "kernelspec": {
   "display_name": "Python 3 (ipykernel)",
   "language": "python",
   "name": "python3"
  },
  "language_info": {
   "codemirror_mode": {
    "name": "ipython",
    "version": 3
   },
   "file_extension": ".py",
   "mimetype": "text/x-python",
   "name": "python",
   "nbconvert_exporter": "python",
   "pygments_lexer": "ipython3",
   "version": "3.9.7"
  },
  "toc": {
   "base_numbering": 1,
   "nav_menu": {},
   "number_sections": true,
   "sideBar": true,
   "skip_h1_title": false,
   "title_cell": "",
   "title_sidebar": "Sumário",
   "toc_cell": false,
   "toc_position": {
    "height": "calc(100% - 180px)",
    "left": "10px",
    "top": "150px",
    "width": "165px"
   },
   "toc_section_display": true,
   "toc_window_display": true
  }
 },
 "nbformat": 4,
 "nbformat_minor": 5
}
